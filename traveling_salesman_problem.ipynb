{
 "cells": [
  {
   "cell_type": "code",
   "execution_count": 8,
   "id": "caring-hotel",
   "metadata": {},
   "outputs": [
    {
     "name": "stdout",
     "output_type": "stream",
     "text": [
      "The autoreload extension is already loaded. To reload it, use:\n",
      "  %reload_ext autoreload\n"
     ]
    }
   ],
   "source": [
    "import os\n",
    "from dotenv import load_dotenv\n",
    "\n",
    "import numpy as np\n",
    "\n",
    "import json\n",
    "\n",
    "import googlemaps\n",
    "import gmaps\n",
    "\n",
    "from utils.google_maps import GoogleMaps\n",
    "\n",
    "%load_ext autoreload\n",
    "%autoreload 2"
   ]
  },
  {
   "cell_type": "code",
   "execution_count": 9,
   "id": "political-balance",
   "metadata": {},
   "outputs": [],
   "source": [
    "# Places of interest\n",
    "places = 'YHA London Central Hostel', 'Coca-Cola London Eye', 'St. Paul\\'s Cathedral', 'Leadenhall Market', 'The National Gallery','Big Ben', 'Buckingham Palace', 'Waterloo Station'\n",
    "\n",
    "# Location\n",
    "Location = 'London'\n",
    "\n",
    "# Mode\n",
    "Mode = 'walking'  # 'driving', 'walking', 'bicycling', 'transit'\n",
    "\n",
    "# Get Google API key from:\n",
    "# https://developers.google.com/maps/documentation/distance-matrix/start#get-a-key\n",
    "load_dotenv('.env')\n",
    "password = os.getenv('API_KEY')"
   ]
  },
  {
   "cell_type": "code",
   "execution_count": 10,
   "id": "crucial-contrast",
   "metadata": {},
   "outputs": [
    {
     "name": "stdout",
     "output_type": "stream",
     "text": [
      "YHA London Central Hostel\n",
      "Coca-Cola London Eye\n",
      "St. Paul's Cathedral\n",
      "Leadenhall Market\n",
      "The National Gallery\n",
      "Big Ben\n",
      "Buckingham Palace\n",
      "Waterloo Station\n"
     ]
    },
    {
     "data": {
      "text/plain": [
       "(array([51.5205605, 51.5032973, 51.5138453, 51.512766 , 51.508929 ,\n",
       "        51.5007292, 51.501364 , 51.5031653]),\n",
       " array([-0.1427013, -0.1195537, -0.0983506, -0.0835289, -0.128299 ,\n",
       "        -0.1246254, -0.14189  , -0.1123051]))"
      ]
     },
     "execution_count": 10,
     "metadata": {},
     "output_type": "execute_result"
    }
   ],
   "source": [
    "# Get lat and lng\n",
    "lat = []\n",
    "lng = []\n",
    "\n",
    "google_maps = GoogleMaps(password)\n",
    "for place in places:\n",
    "    print(place)\n",
    "    result = google_maps.get_address_recommendation(query=place, language='en', location=Location)\n",
    "    lat = np.append(lat, result[0]['lat'])\n",
    "    lng = np.append(lng, result[0]['lng'])\n",
    "\n",
    "lat = lat.astype(float)\n",
    "lng = lng.astype(float)\n",
    "\n",
    "lat, lng"
   ]
  },
  {
   "cell_type": "code",
   "execution_count": 11,
   "id": "regular-click",
   "metadata": {},
   "outputs": [
    {
     "data": {
      "text/plain": [
       "array([[   0, 3042, 3793, 4830, 1931, 2982, 2444, 3381],\n",
       "       [3042,    0, 2497, 3392, 1106,  612, 1974,  658],\n",
       "       [3793, 2496,    0, 1191, 2298, 2971, 3592, 2228],\n",
       "       [4830, 3422, 1191,    0, 3418, 3905, 4712, 2971],\n",
       "       [1931, 1106, 2296, 3416,    0, 1046, 1377, 1445],\n",
       "       [2981,  612, 2970, 3906, 1045,    0, 1388, 1139],\n",
       "       [2445, 1973, 3604, 4724, 1409, 1387,    0, 2501],\n",
       "       [3380,  658, 2229, 2967, 1444, 1139, 2502,    0]])"
      ]
     },
     "execution_count": 11,
     "metadata": {},
     "output_type": "execute_result"
    }
   ],
   "source": [
    "gmaps = googlemaps.Client(key=password)\n",
    "\n",
    "dist_matrix = []\n",
    "\n",
    "for i in range(len(places)):\n",
    "    for j in range(len(places)):\n",
    "        x = (lat[i], lng[i])\n",
    "        y = (lat[j], lng[j])\n",
    "        directions_result = gmaps.directions(x, y, mode=Mode, avoid='ferries',)\n",
    "        dist_matrix.append(directions_result[0]['legs'][0]['distance']['value'])\n",
    "\n",
    "dist_matrix = np.reshape(dist_matrix, (len(places), len(places)))\n",
    "dist_matrix.astype(int)\n",
    "dist_matrix"
   ]
  },
  {
   "cell_type": "code",
   "execution_count": null,
   "id": "affiliated-logic",
   "metadata": {},
   "outputs": [],
   "source": []
  }
 ],
 "metadata": {
  "kernelspec": {
   "display_name": "Python 3",
   "language": "python",
   "name": "python3"
  },
  "language_info": {
   "codemirror_mode": {
    "name": "ipython",
    "version": 3
   },
   "file_extension": ".py",
   "mimetype": "text/x-python",
   "name": "python",
   "nbconvert_exporter": "python",
   "pygments_lexer": "ipython3",
   "version": "3.8.2"
  }
 },
 "nbformat": 4,
 "nbformat_minor": 5
}
